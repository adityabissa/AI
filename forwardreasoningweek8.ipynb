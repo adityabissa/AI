{
  "nbformat": 4,
  "nbformat_minor": 0,
  "metadata": {
    "colab": {
      "provenance": [],
      "authorship_tag": "ABX9TyP5UsHdgTy4DcJgx2WYe6Fa",
      "include_colab_link": true
    },
    "kernelspec": {
      "name": "python3",
      "display_name": "Python 3"
    },
    "language_info": {
      "name": "python"
    }
  },
  "cells": [
    {
      "cell_type": "markdown",
      "metadata": {
        "id": "view-in-github",
        "colab_type": "text"
      },
      "source": [
        "<a href=\"https://colab.research.google.com/github/adityabissa/AI/blob/main/forwardreasoningweek8.ipynb\" target=\"_parent\"><img src=\"https://colab.research.google.com/assets/colab-badge.svg\" alt=\"Open In Colab\"/></a>"
      ]
    },
    {
      "cell_type": "code",
      "source": [
        "def forward_chaining(kb, query):\n",
        "    \"\"\"\n",
        "    Perform forward chaining to determine if the query can be inferred from the knowledge base.\n",
        "\n",
        "    Parameters:\n",
        "    kb (list): List of knowledge base rules and facts.\n",
        "    query (str): The query to be proven.\n",
        "\n",
        "    Returns:\n",
        "    bool: True if the query can be inferred, False otherwise.\n",
        "    \"\"\"\n",
        "    inferred = set()  # Stores inferred facts\n",
        "    agenda = [fact for fact in kb if \"->\" not in fact]  # Initial facts\n",
        "    rules = [rule for rule in kb if \"->\" in rule]  # Rules from KB\n",
        "\n",
        "    while agenda:\n",
        "        fact = agenda.pop(0)\n",
        "        if fact in inferred:\n",
        "            continue\n",
        "\n",
        "        inferred.add(fact)\n",
        "\n",
        "        for rule in rules:\n",
        "            premise, conclusion = rule.split(\" -> \")\n",
        "            premises = premise.split(\" AND \")\n",
        "\n",
        "            # Check if all premises are in inferred facts\n",
        "            if all(p in inferred for p in premises):\n",
        "                if conclusion == query:\n",
        "                    return True  # Query is proven\n",
        "                if conclusion not in inferred:\n",
        "                    agenda.append(conclusion)\n",
        "\n",
        "    return False  # Query not proven\n",
        "\n",
        "\n",
        "# Knowledge Base\n",
        "knowledge_base = [\n",
        "    \"Enemy(Nono, America)\",\n",
        "    \"Enemy(x, America) -> Hostile(x)\",\n",
        "    \"Missile(x) -> Weapon(x)\",\n",
        "    \"Owns(Nono, m) AND Missile(m)\",\n",
        "    \"American(West) AND Weapon(m) AND Sells(West, m, Nono) AND Hostile(Nono) -> Criminal(West)\"\n",
        "]\n",
        "\n",
        "# Query\n",
        "query_to_prove = \"Criminal(West)\"\n",
        "\n",
        "# Run Forward Chaining\n",
        "result = forward_chaining(knowledge_base, query_to_prove)\n",
        "\n",
        "if result:\n",
        "    print(f\"The query '{query_to_prove}' can be proven.\")\n",
        "else:\n",
        "    print(f\"The query '{query_to_prove}' cannot be proven.\")\n"
      ],
      "metadata": {
        "colab": {
          "base_uri": "https://localhost:8080/"
        },
        "id": "j2c1sCgKrn4P",
        "outputId": "0d6e4408-34c7-48a4-9b28-0608c9a05660"
      },
      "execution_count": 7,
      "outputs": [
        {
          "output_type": "stream",
          "name": "stdout",
          "text": [
            "The query 'Criminal(West)' cannot be proven.\n"
          ]
        }
      ]
    }
  ]
}