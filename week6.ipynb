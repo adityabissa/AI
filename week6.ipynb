{
  "nbformat": 4,
  "nbformat_minor": 0,
  "metadata": {
    "colab": {
      "provenance": [],
      "authorship_tag": "ABX9TyMxQaBeIYMR3nwvgob3YzLf",
      "include_colab_link": true
    },
    "kernelspec": {
      "name": "python3",
      "display_name": "Python 3"
    },
    "language_info": {
      "name": "python"
    }
  },
  "cells": [
    {
      "cell_type": "markdown",
      "metadata": {
        "id": "view-in-github",
        "colab_type": "text"
      },
      "source": [
        "<a href=\"https://colab.research.google.com/github/adityabissa/AI/blob/main/week6.ipynb\" target=\"_parent\"><img src=\"https://colab.research.google.com/assets/colab-badge.svg\" alt=\"Open In Colab\"/></a>"
      ]
    },
    {
      "cell_type": "code",
      "execution_count": 5,
      "metadata": {
        "colab": {
          "base_uri": "https://localhost:8080/"
        },
        "id": "RcvAQ2Nwia6B",
        "outputId": "0f9b52c8-e05d-438f-b884-81ff12853e6a"
      },
      "outputs": [
        {
          "output_type": "stream",
          "name": "stdout",
          "text": [
            "p    q    r    KB   Query     Entails?  \n",
            "0    0    0    0    1         Yes       \n",
            "0    0    1    1    1         Yes       \n",
            "0    1    0    1    0         No        \n",
            "0    1    1    1    1         Yes       \n",
            "1    0    0    0    1         Yes       \n",
            "1    0    1    0    1         Yes       \n",
            "1    1    0    1    0         No        \n",
            "1    1    1    1    1         Yes       \n"
          ]
        }
      ],
      "source": [
        "import itertools\n",
        "\n",
        "def implies(a, b):\n",
        "    return not a or b\n",
        "\n",
        "def and_op(*args):\n",
        "    return all(args)\n",
        "\n",
        "def or_op(*args):\n",
        "    return any(args)\n",
        "\n",
        "def not_op(a):\n",
        "    return not a\n",
        "\n",
        "\n",
        "def evaluate_KB(p, q, r):\n",
        "\n",
        "    clause1 = implies(p, q)\n",
        "    clause2 = or_op(q, r)\n",
        "    return and_op(clause1, clause2)\n",
        "\n",
        "def evaluate_query(p, q, r):\n",
        "\n",
        "    return implies(q, r)\n",
        "\n",
        "combinations = list(itertools.product(variables, repeat=3))\n",
        "\n",
        "\n",
        "print(f\"{'p':<5}{'q':<5}{'r':<5}{'KB':<5}{'Query':<10}{'Entails?':<10}\")\n",
        "\n",
        "for p, q, r in combinations:\n",
        "    kb_value = evaluate_KB(p, q, r)\n",
        "    query_value = evaluate_query(p, q, r)\n",
        "\n",
        "    entails = \"Yes\" if kb_value <= query_value else \"No\"\n",
        "\n",
        "    print(f\"{p:<5}{q:<5}{r:<5}{kb_value:<5}{query_value:<10}{entails:<10}\")\n",
        "\n"
      ]
    },
    {
      "cell_type": "code",
      "source": [],
      "metadata": {
        "id": "LOv8oe8hqv9E"
      },
      "execution_count": 5,
      "outputs": []
    }
  ]
}