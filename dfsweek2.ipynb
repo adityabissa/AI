{
  "nbformat": 4,
  "nbformat_minor": 0,
  "metadata": {
    "colab": {
      "provenance": [],
      "authorship_tag": "ABX9TyM7WIrwHQWytMxMB9p7nhty",
      "include_colab_link": true
    },
    "kernelspec": {
      "name": "python3",
      "display_name": "Python 3"
    },
    "language_info": {
      "name": "python"
    }
  },
  "cells": [
    {
      "cell_type": "markdown",
      "metadata": {
        "id": "view-in-github",
        "colab_type": "text"
      },
      "source": [
        "<a href=\"https://colab.research.google.com/github/adityabissa/AI/blob/main/dfsweek2.ipynb\" target=\"_parent\"><img src=\"https://colab.research.google.com/assets/colab-badge.svg\" alt=\"Open In Colab\"/></a>"
      ]
    },
    {
      "cell_type": "code",
      "execution_count": 3,
      "metadata": {
        "colab": {
          "base_uri": "https://localhost:8080/"
        },
        "id": "VqhIig5WWyhZ",
        "outputId": "49cfa526-edda-4b66-f253-a2c1ec83e43a"
      },
      "outputs": [
        {
          "output_type": "stream",
          "name": "stdout",
          "text": [
            "1  2  3  \n",
            "5  6  0  \n",
            "7  8  4  \n",
            "\n",
            "1  2  3  \n",
            "5  0  6  \n",
            "7  8  4  \n",
            "\n",
            "1  2  3  \n",
            "5  8  6  \n",
            "7  0  4  \n",
            "\n",
            "1  2  3  \n",
            "5  8  6  \n",
            "0  7  4  \n",
            "\n"
          ]
        }
      ],
      "source": [
        "import copy\n",
        "from heapq import heappush, heappop\n",
        "\n",
        "n = 3\n",
        "row = [1, 0, -1, 0]\n",
        "col = [0, -1, 0, 1]\n",
        "\n",
        "class PriorityQueue:\n",
        "    def __init__(self):\n",
        "        self.heap = []\n",
        "\n",
        "    def push(self, k):\n",
        "        heappush(self.heap, k)\n",
        "\n",
        "    def pop(self):\n",
        "        return heappop(self.heap)\n",
        "\n",
        "    def empty(self):\n",
        "        return not self.heap\n",
        "\n",
        "class Node:\n",
        "    def __init__(self, parent, mat, empty_tile_pos, cost, level):\n",
        "        self.parent = parent\n",
        "        self.mat = mat\n",
        "        self.empty_tile_pos = empty_tile_pos\n",
        "        self.cost = cost\n",
        "        self.level = level\n",
        "\n",
        "    def __lt__(self, nxt):\n",
        "        return self.cost < nxt.cost\n",
        "\n",
        "def calculateCost(mat, final) -> int:\n",
        "    count = 0\n",
        "    for i in range(n):\n",
        "        for j in range(n):\n",
        "            if mat[i][j] and mat[i][j] != final[i][j]:\n",
        "                count += 1\n",
        "    return count\n",
        "\n",
        "def newNode(parent, mat, empty_tile_pos, new_empty_tile_pos, level, final):\n",
        "    new_mat = copy.deepcopy(mat)\n",
        "    x1, y1 = empty_tile_pos\n",
        "    x2, y2 = new_empty_tile_pos\n",
        "    new_mat[x1][y1], new_mat[x2][y2] = new_mat[x2][y2], new_mat[x1][y1]\n",
        "    cost = calculateCost(new_mat, final)\n",
        "    return Node(parent, new_mat, new_empty_tile_pos, cost, level)\n",
        "\n",
        "def printMatrix(mat):\n",
        "    for i in range(n):\n",
        "        for j in range(n):\n",
        "            print(\"%d \" % (mat[i][j]), end=\" \")\n",
        "        print()\n",
        "\n",
        "def isSafe(x, y):\n",
        "    return 0 <= x < n and 0 <= y < n\n",
        "\n",
        "def printPath(root):\n",
        "    if root is None:\n",
        "        return\n",
        "    printPath(root.parent)\n",
        "    printMatrix(root.mat)\n",
        "    print()\n",
        "\n",
        "def solve(initial, empty_tile_pos, final):\n",
        "    pq = PriorityQueue()\n",
        "    cost = calculateCost(initial, final)\n",
        "    root = Node(None, initial, empty_tile_pos, cost, 0)\n",
        "    pq.push(root)\n",
        "\n",
        "    while not pq.empty():\n",
        "        minimum = pq.pop()\n",
        "        if minimum.cost == 0:\n",
        "            printPath(minimum)\n",
        "            return\n",
        "\n",
        "        for i in range(4):\n",
        "            new_tile_pos = [minimum.empty_tile_pos[0] + row[i], minimum.empty_tile_pos[1] + col[i]]\n",
        "            if isSafe(new_tile_pos[0], new_tile_pos[1]):\n",
        "                child = newNode(minimum, minimum.mat, minimum.empty_tile_pos, new_tile_pos, minimum.level + 1, final)\n",
        "                pq.push(child)\n",
        "\n",
        "    print(\"No solution found\")\n",
        "\n",
        "initial = [[1, 2, 3], [5, 6, 0], [7, 8, 4]]\n",
        "final = [[1, 2, 3], [5, 8, 6], [0, 7, 4]]\n",
        "empty_tile_pos = [1, 2]\n",
        "solve(initial, empty_tile_pos, final)\n"
      ]
    }
  ]
}